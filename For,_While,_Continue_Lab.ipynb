{
  "nbformat": 4,
  "nbformat_minor": 0,
  "metadata": {
    "colab": {
      "provenance": [],
      "authorship_tag": "ABX9TyPwnsIMt4FrxG0zfQI4s6i0",
      "include_colab_link": true
    },
    "kernelspec": {
      "name": "python3",
      "display_name": "Python 3"
    },
    "language_info": {
      "name": "python"
    }
  },
  "cells": [
    {
      "cell_type": "markdown",
      "metadata": {
        "id": "view-in-github",
        "colab_type": "text"
      },
      "source": [
        "<a href=\"https://colab.research.google.com/github/KImondorose/data-science/blob/main/For%2C_While%2C_Continue_Lab.ipynb\" target=\"_parent\"><img src=\"https://colab.research.google.com/assets/colab-badge.svg\" alt=\"Open In Colab\"/></a>"
      ]
    },
    {
      "cell_type": "code",
      "execution_count": 12,
      "metadata": {
        "colab": {
          "base_uri": "https://localhost:8080/"
        },
        "id": "-5zTWHo63URr",
        "outputId": "f43e0f96-aad9-40f0-e23c-141f98eea90f"
      },
      "outputs": [
        {
          "output_type": "execute_result",
          "data": {
            "text/plain": [
              "[{'name': 'Owen',\n",
              "  'age': 26,\n",
              "  'job': 'Sales person',\n",
              "  'pet': 'Cat',\n",
              "  'pet_name': 'Cosmo'},\n",
              " {'name': 'Josh',\n",
              "  'age': 22,\n",
              "  'job': 'Student',\n",
              "  'pet': 'Cat',\n",
              "  'pet_name': 'Chat'}]"
            ]
          },
          "metadata": {},
          "execution_count": 12
        }
      ],
      "source": [
        "people = [\n",
        "    {'name': \"Daniel\", 'age': 29, 'job': \"Engineer\", 'pet': \"Cat\", 'pet_name': \"Gato\"},\n",
        "    {'name': \"Katie\", 'age': 30, 'job': \"Teacher\", 'pet': \"Dog\", 'pet_name': \"Frank\"},\n",
        "    {'name': \"Owen\", 'age': 26, 'job': \"Sales person\", 'pet': \"Cat\", 'pet_name': \"Cosmo\"},\n",
        "    {'name': \"Josh\", 'age': 22, 'job': \"Student\", 'pet': \"Cat\", 'pet_name': \"Chat\"},\n",
        "    {'name': \"Estelle\", 'age': 35, 'job': \"French Diplomat\", 'pet': \"Dog\", 'pet_name': \"Gabby\"},\n",
        "    {'name': \"Gustav\", 'age': 24, 'job': \"Brewer\", 'pet': \"Dog\", 'pet_name': \"Helen\"}\n",
        "]\n",
        "cat_owners = []\n",
        "for person in people:\n",
        "    if person['age'] < 28 and person['pet'] == \"Cat\":\n",
        "        cat_owners.append(person)\n",
        "cat_owners\n",
        "\n"
      ]
    },
    {
      "cell_type": "code",
      "source": [
        "slices_of_pie = 6\n",
        "slices_eaten = 0\n",
        "\n",
        "\n",
        "# use a while loop to eat each slice of pie\n",
        "# add each slice to the slices_eaten variable\n",
        "\n",
        "while slices_eaten < slices_of_pie:\n",
        "    print('Another slice eaten!')\n",
        "    slices_eaten += 1\n",
        "    print('Now eaten {} slices!'.format(slices_eaten))"
      ],
      "metadata": {
        "colab": {
          "base_uri": "https://localhost:8080/"
        },
        "id": "Cl06ciCcHKrM",
        "outputId": "2f9de1cc-5356-41f5-ffa0-0a2817fe4d06"
      },
      "execution_count": 23,
      "outputs": [
        {
          "output_type": "stream",
          "name": "stdout",
          "text": [
            "Another slice eaten!\n",
            "Now eaten 1 slices!\n",
            "Another slice eaten!\n",
            "Now eaten 2 slices!\n",
            "Another slice eaten!\n",
            "Now eaten 3 slices!\n",
            "Another slice eaten!\n",
            "Now eaten 4 slices!\n",
            "Another slice eaten!\n",
            "Now eaten 5 slices!\n",
            "Another slice eaten!\n",
            "Now eaten 6 slices!\n"
          ]
        }
      ]
    },
    {
      "cell_type": "code",
      "source": [
        "time_for_breakfast = 1468\n",
        "number_of_cooked_pancakes= 0\n",
        "while time_for_breakfast > 0 and number_of_cooked_pancakes < 5:\n",
        "    time_for_breakfast -= sum([5,27,5,27,5])\n",
        "    number_of_cooked_pancakes += 1\n",
        "time_for_breakfast"
      ],
      "metadata": {
        "colab": {
          "base_uri": "https://localhost:8080/"
        },
        "id": "ZJxza-rUHTsq",
        "outputId": "6b488cd2-6269-416c-e200-c0d26a3e2c46"
      },
      "execution_count": 24,
      "outputs": [
        {
          "output_type": "execute_result",
          "data": {
            "text/plain": [
              "1123"
            ]
          },
          "metadata": {},
          "execution_count": 24
        }
      ]
    },
    {
      "cell_type": "code",
      "source": [
        "dog_owner_names = []\n",
        "dog_names = []\n",
        "for person in people:\n",
        "    if person['pet'] == \"Dog\":\n",
        "        dog_owner_names.append(person['name'])\n",
        "        dog_names.append(person['pet_name'])\n",
        "    else:\n",
        "        continue\n",
        "dog_owner_names\n"
      ],
      "metadata": {
        "colab": {
          "base_uri": "https://localhost:8080/"
        },
        "id": "T1rBiU2BC9dk",
        "outputId": "0c8fa33e-c7d3-42fa-fe14-0352a5b91b27"
      },
      "execution_count": 13,
      "outputs": [
        {
          "output_type": "execute_result",
          "data": {
            "text/plain": [
              "['Katie', 'Estelle', 'Gustav']"
            ]
          },
          "metadata": {},
          "execution_count": 13
        }
      ]
    },
    {
      "cell_type": "code",
      "source": [
        "dog_names"
      ],
      "metadata": {
        "colab": {
          "base_uri": "https://localhost:8080/"
        },
        "id": "NV1_9ZeRDEnT",
        "outputId": "9ee9f521-d72e-43d5-fc00-1acfb9582d60"
      },
      "execution_count": 14,
      "outputs": [
        {
          "output_type": "execute_result",
          "data": {
            "text/plain": [
              "['Frank', 'Gabby', 'Helen']"
            ]
          },
          "metadata": {},
          "execution_count": 14
        }
      ]
    },
    {
      "cell_type": "code",
      "source": [
        "list_of_numbers = list(range(0, 100))\n",
        "list_of_odd_numbers_plus_ten = []\n",
        "\n",
        "# use a for loop to create a list of odd numbers from the list of numbers from 0 to 100\n",
        "# each time there is an odd number, add 10 to it and append it to the list_of_odd_numbers_plus_ten\n",
        "# stop adding numbers to the list when there are 35 numbers\n",
        "# use break and continue statements in your code\n",
        "for number in list_of_numbers:\n",
        "    if len(list_of_odd_numbers_plus_ten) > 35:\n",
        "        break\n",
        "    elif number % 2 != 0:\n",
        "      number + 10\n",
        "      list_of_odd_numbers_plus_ten.append(number)\n",
        "    elif number % 2 == 0:\n",
        "      continue\n",
        "print('Sum: ' , sum(list_of_odd_numbers_plus_ten))\n",
        "\n",
        "\n",
        "    # Continue writing code here"
      ],
      "metadata": {
        "colab": {
          "base_uri": "https://localhost:8080/"
        },
        "id": "kSgisi6iDu5m",
        "outputId": "0bd07cbe-7a54-4b9e-fb19-0b542e119376"
      },
      "execution_count": 22,
      "outputs": [
        {
          "output_type": "stream",
          "name": "stdout",
          "text": [
            "Sum:  1296\n"
          ]
        }
      ]
    },
    {
      "cell_type": "code",
      "source": [
        "true = [1, 2, 3, 4]\n",
        "true[0] = 3\n",
        "true"
      ],
      "metadata": {
        "colab": {
          "base_uri": "https://localhost:8080/"
        },
        "id": "qDVV7ezX5emm",
        "outputId": "5b8d5a16-f0c8-4458-91d1-e83cbf8988ec"
      },
      "execution_count": 5,
      "outputs": [
        {
          "output_type": "execute_result",
          "data": {
            "text/plain": [
              "[3, 2, 3, 4]"
            ]
          },
          "metadata": {},
          "execution_count": 5
        }
      ]
    },
    {
      "cell_type": "code",
      "source": [
        "time_for_breakfast = 1468\n",
        "number_of_cooked_pancakes= 0\n",
        "while time_for_breakfast > 0 and number_of_cooked_pancakes < 5:\n",
        "    time_for_breakfast -= sum([5,27,5,27,5])\n",
        "    number_of_cooked_pancakes += 1\n",
        "time_for_breakfast"
      ],
      "metadata": {
        "colab": {
          "base_uri": "https://localhost:8080/"
        },
        "id": "da3MYpPH5ln1",
        "outputId": "66162b3d-4fbf-4f65-865c-af3f51bc6b13"
      },
      "execution_count": 6,
      "outputs": [
        {
          "output_type": "execute_result",
          "data": {
            "text/plain": [
              "1123"
            ]
          },
          "metadata": {},
          "execution_count": 6
        }
      ]
    },
    {
      "cell_type": "code",
      "source": [
        "time_for_breakfast = 1468\n",
        "number_of_cooked_pancakes = 0\n",
        "while time_for_breakfast > 0 and number_of_cooked_pancakes < 5:\n",
        "  time_for_breakfast -= sum([5,27,5,27,5])\n",
        "  number_of_cooked_pancakes += 1\n",
        "time_for_breakfast"
      ],
      "metadata": {
        "colab": {
          "base_uri": "https://localhost:8080/"
        },
        "id": "Rr1u7h5kA_Jg",
        "outputId": "326c260f-a5a6-4e47-99da-2919692f57ea"
      },
      "execution_count": 9,
      "outputs": [
        {
          "output_type": "execute_result",
          "data": {
            "text/plain": [
              "1123"
            ]
          },
          "metadata": {},
          "execution_count": 9
        }
      ]
    },
    {
      "cell_type": "code",
      "source": [
        "line_of_hungry_patrons = list(range(0,30))\n",
        "fed_patrons = []\n",
        "for i in line_of_hungry_patrons:\n",
        "    if i % 2 == 0:\n",
        "        fed_patrons.append(i)\n",
        "        line_of_hungry_patrons.remove(i)\n",
        "print(line_of_hungry_patrons)\n",
        "print(fed_patrons)"
      ],
      "metadata": {
        "colab": {
          "base_uri": "https://localhost:8080/"
        },
        "id": "IUPDtyK6Hd7p",
        "outputId": "e8c91ad2-d2da-4e6d-f1cb-6c9383a4fc70"
      },
      "execution_count": 26,
      "outputs": [
        {
          "output_type": "stream",
          "name": "stdout",
          "text": [
            "[1, 3, 5, 7, 9, 11, 13, 15, 17, 19, 21, 23, 25, 27, 29]\n",
            "[0, 2, 4, 6, 8, 10, 12, 14, 16, 18, 20, 22, 24, 26, 28]\n"
          ]
        }
      ]
    },
    {
      "cell_type": "code",
      "source": [],
      "metadata": {
        "id": "AVj5mIvLHeqa"
      },
      "execution_count": null,
      "outputs": []
    }
  ]
}